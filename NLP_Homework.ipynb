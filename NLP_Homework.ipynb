{
 "cells": [
  {
   "cell_type": "code",
   "execution_count": null,
   "id": "e813189b-7a0a-4884-9482-d670245884c1",
   "metadata": {},
   "outputs": [],
   "source": [
    "#------------------------------------------------- 1. Sentiment Analysis"
   ]
  },
  {
   "cell_type": "code",
   "execution_count": null,
   "id": "c041fe38-398f-4be6-be1a-0dd85b282b49",
   "metadata": {},
   "outputs": [],
   "source": []
  },
  {
   "cell_type": "code",
   "execution_count": null,
   "id": "a1e2b31f-b8a5-4a62-aa38-6384bb9264bb",
   "metadata": {},
   "outputs": [],
   "source": [
    "# Initial imports\n",
    "import os\n",
    "import pandas as pd\n",
    "from dotenv import load_dotenv\n",
    "import nltk as nltk\n",
    "nltk.download('vader_lexicon')\n",
    "from nltk.sentiment.vader import SentimentIntensityAnalyzer\n",
    "analyzer = SentimentIntensityAnalyzer()\n",
    "\n",
    "%matplotlib inline"
   ]
  },
  {
   "cell_type": "code",
   "execution_count": null,
   "id": "8245f146-fcf5-4ddd-ada2-80ee18c5da63",
   "metadata": {},
   "outputs": [],
   "source": [
    "# Read your api key environment variable\n",
    "api_key = os.getenv(\"news_api\")"
   ]
  },
  {
   "cell_type": "code",
   "execution_count": null,
   "id": "96149419-5b74-4e4a-bb65-a3ab95504d9b",
   "metadata": {},
   "outputs": [],
   "source": [
    "# Create a newsapi client\n",
    "newsapi = NewsApiClient(api_key=api_key)"
   ]
  },
  {
   "cell_type": "code",
   "execution_count": null,
   "id": "fdf6defb-1981-42fd-b2d9-4cb5298745b6",
   "metadata": {},
   "outputs": [],
   "source": [
    "# Fetch the Bitcoin news articles\n",
    "# YOUR CODE HERE!\n",
    "#NEEDS CHANGING STILL HERE\n",
    "\n",
    "btc_news = newsapi.get_everything(\n",
    "    q=\"bitcoin OR btc\",\n",
    "    language=\"en\"\n",
    ")"
   ]
  },
  {
   "cell_type": "code",
   "execution_count": null,
   "id": "bcbaed3e-22d8-4f77-804d-8b230c61991e",
   "metadata": {},
   "outputs": [],
   "source": [
    "# Fetch the Ethereum news articles\n",
    "# YOUR CODE HERE!"
   ]
  },
  {
   "cell_type": "code",
   "execution_count": null,
   "id": "ee5de4bc-a0b9-458a-9f32-ecce81f05f1a",
   "metadata": {},
   "outputs": [],
   "source": [
    "# Create the Bitcoin sentiment scores DataFrame\n",
    "# YOUR CODE HERE!"
   ]
  },
  {
   "cell_type": "code",
   "execution_count": null,
   "id": "591e981e-58f9-42a9-b45b-3090356fcbb5",
   "metadata": {},
   "outputs": [],
   "source": [
    "# Create the Ethereum sentiment scores DataFrame\n",
    "# YOUR CODE HERE!"
   ]
  },
  {
   "cell_type": "code",
   "execution_count": null,
   "id": "455813df-a245-4dbe-9bc4-a76c5541f0b6",
   "metadata": {},
   "outputs": [],
   "source": [
    "# Describe the Bitcoin Sentiment\n",
    "# YOUR CODE HERE!"
   ]
  },
  {
   "cell_type": "code",
   "execution_count": null,
   "id": "5112afb3-1814-4e4b-a80e-70c37166d3da",
   "metadata": {},
   "outputs": [],
   "source": [
    "# Describe the Ethereum Sentiment\n",
    "# YOUR CODE HERE!"
   ]
  },
  {
   "cell_type": "code",
   "execution_count": null,
   "id": "2734a4bc-d802-439c-a6a2-ceb6de031964",
   "metadata": {},
   "outputs": [],
   "source": [
    "#---------------------------------------------------  2. Natural Language Processing"
   ]
  },
  {
   "cell_type": "code",
   "execution_count": null,
   "id": "53869476-0d2c-4cbc-afe8-359aace0f243",
   "metadata": {},
   "outputs": [],
   "source": [
    "from nltk.tokenize import word_tokenize, sent_tokenize\n",
    "from nltk.corpus import stopwords\n",
    "from nltk.stem import WordNetLemmatizer, PorterStemmer\n",
    "from string import punctuation\n",
    "import re"
   ]
  },
  {
   "cell_type": "code",
   "execution_count": null,
   "id": "b990d31e-5048-44bb-ba56-e6f4dee6ab2f",
   "metadata": {},
   "outputs": [],
   "source": [
    "# Instantiate the lemmatizer\n",
    "# YOUR CODE HERE!\n",
    "\n",
    "# Create a list of stopwords\n",
    "# YOUR CODE HERE!\n",
    "\n",
    "# Expand the default stopwords list if necessary\n",
    "# YOUR CODE HERE!"
   ]
  },
  {
   "cell_type": "code",
   "execution_count": null,
   "id": "88135471-7719-407d-abab-b2939f7befb3",
   "metadata": {},
   "outputs": [],
   "source": [
    " # Complete the tokenizer function\n",
    "def tokenizer(text):\n",
    "    \"\"\"Tokenizes text.\"\"\"\n",
    "    \n",
    "    # Remove the punctuation from text\n",
    "\n",
    "   \n",
    "    # Create a tokenized list of the words\n",
    "    \n",
    "    \n",
    "    # Lemmatize words into root words\n",
    "\n",
    "   \n",
    "    # Convert the words to lowercase\n",
    "    \n",
    "    \n",
    "    # Remove the stop words\n",
    "    \n",
    "    \n",
    "    return tokens"
   ]
  },
  {
   "cell_type": "code",
   "execution_count": null,
   "id": "11a6e123-fc36-4962-bc10-dd7858f6593c",
   "metadata": {},
   "outputs": [],
   "source": [
    "# Create a new tokens column for Bitcoin\n",
    "# YOUR CODE HERE!"
   ]
  },
  {
   "cell_type": "code",
   "execution_count": null,
   "id": "55a9813b-4fc0-4ae9-ae83-4bb05617151a",
   "metadata": {},
   "outputs": [],
   "source": [
    " # Create a new tokens column for Ethereum\n",
    "# YOUR CODE HERE!"
   ]
  },
  {
   "cell_type": "code",
   "execution_count": null,
   "id": "fdfcf5be-fd47-48dd-a648-fd86bd713b11",
   "metadata": {},
   "outputs": [],
   "source": [
    "##  NGrams and Frequency Analysis"
   ]
  },
  {
   "cell_type": "code",
   "execution_count": null,
   "id": "e7256ead-9073-4b72-a240-5ddc65f09633",
   "metadata": {},
   "outputs": [],
   "source": [
    " from collections import Counter\n",
    "from nltk import ngrams"
   ]
  },
  {
   "cell_type": "code",
   "execution_count": null,
   "id": "17745f1a-0bd5-4c32-ae50-e9b2d59eb0fa",
   "metadata": {},
   "outputs": [],
   "source": [
    " # Generate the Bitcoin N-grams where N=2\n",
    "# YOUR CODE HERE!"
   ]
  },
  {
   "cell_type": "code",
   "execution_count": null,
   "id": "1088fa96-848c-4e13-a4b5-3fc33ec809e1",
   "metadata": {},
   "outputs": [],
   "source": [
    "# Generate the Ethereum N-grams where N=2\n",
    "# YOUR CODE HERE!"
   ]
  },
  {
   "cell_type": "code",
   "execution_count": null,
   "id": "2465b420-c998-44a3-8f87-8d4036e08e61",
   "metadata": {},
   "outputs": [],
   "source": [
    " # Function token_count generates the top 10 words for a given coin\n",
    "def token_count(tokens, N=3):\n",
    "    \"\"\"Returns the top N tokens from the frequency count\"\"\"\n",
    "    return Counter(tokens).most_common(N)"
   ]
  },
  {
   "cell_type": "code",
   "execution_count": null,
   "id": "7336adbe-f824-49f9-8713-77c352588db6",
   "metadata": {},
   "outputs": [],
   "source": [
    " # Use token_count to get the top 10 words for Bitcoin\n",
    "# YOUR CODE HERE!"
   ]
  },
  {
   "cell_type": "code",
   "execution_count": null,
   "id": "de0176d8-75fc-47cc-9cee-971829df8b49",
   "metadata": {},
   "outputs": [],
   "source": [
    " # Use token_count to get the top 10 words for Ethereum\n",
    "# YOUR CODE HERE!"
   ]
  },
  {
   "cell_type": "code",
   "execution_count": null,
   "id": "97ddf8ac-6ee3-42ba-8e66-304fa4396a4a",
   "metadata": {},
   "outputs": [],
   "source": [
    "#----------------------------------------- Word Clouds"
   ]
  },
  {
   "cell_type": "code",
   "execution_count": null,
   "id": "5de12760-68d6-4e37-bdf0-1a5efa82758b",
   "metadata": {},
   "outputs": [],
   "source": [
    " from wordcloud import WordCloud\n",
    "import matplotlib.pyplot as plt\n",
    "plt.style.use('seaborn-whitegrid')\n",
    "import matplotlib as mpl\n",
    "mpl.rcParams['figure.figsize'] = [20.0, 10.0]"
   ]
  },
  {
   "cell_type": "code",
   "execution_count": null,
   "id": "892592e4-57f2-4243-aa7c-2379ee42a1a3",
   "metadata": {},
   "outputs": [],
   "source": [
    "# Generate the Bitcoin word cloud\n",
    "# YOUR CODE HERE!"
   ]
  },
  {
   "cell_type": "code",
   "execution_count": null,
   "id": "4e5aaf68-22b3-415a-ab17-54c6629ecbd6",
   "metadata": {},
   "outputs": [],
   "source": [
    "# Generate the Ethereum word cloud\n",
    "# YOUR CODE HERE!"
   ]
  },
  {
   "cell_type": "code",
   "execution_count": null,
   "id": "40b623c7-2f21-46a1-8b37-8d4361411f8e",
   "metadata": {},
   "outputs": [],
   "source": [
    "#---------------------------------------------------- 3. Named Entity Recognition"
   ]
  },
  {
   "cell_type": "code",
   "execution_count": null,
   "id": "8f56b561-4d70-4b27-b20d-d3e8b741556e",
   "metadata": {},
   "outputs": [],
   "source": [
    "import spacy\n",
    "from spacy import displacy"
   ]
  },
  {
   "cell_type": "code",
   "execution_count": null,
   "id": "2aee34f0-5ec8-489e-92da-a46d5d960675",
   "metadata": {},
   "outputs": [],
   "source": [
    "# Download the language model for SpaCy\n",
    "# !python -m spacy download en_core_web_sm"
   ]
  },
  {
   "cell_type": "code",
   "execution_count": null,
   "id": "a4beb2d0-630c-493b-925c-98cadcd0b9b7",
   "metadata": {},
   "outputs": [],
   "source": [
    " # Load the spaCy model\n",
    "nlp = spacy.load('en_core_web_sm')"
   ]
  },
  {
   "cell_type": "code",
   "execution_count": null,
   "id": "324ade5d-447f-4b2d-8c2a-d9c5ba200905",
   "metadata": {},
   "outputs": [],
   "source": [
    "#-----------Bitcoin NER"
   ]
  },
  {
   "cell_type": "code",
   "execution_count": null,
   "id": "787e4511-9db5-4200-862f-a1adc818084e",
   "metadata": {},
   "outputs": [],
   "source": [
    " # Concatenate all of the Bitcoin text together\n",
    "# YOUR CODE HERE!"
   ]
  },
  {
   "cell_type": "code",
   "execution_count": null,
   "id": "8523c512-b195-4444-9bca-e57510f3732b",
   "metadata": {},
   "outputs": [],
   "source": [
    "# Run the NER processor on all of the text\n",
    "# YOUR CODE HERE!\n",
    "\n",
    "# Add a title to the document\n",
    "# YOUR CODE HERE!"
   ]
  },
  {
   "cell_type": "code",
   "execution_count": null,
   "id": "f20b4875-fff8-4e6a-a114-5bb8da73d44e",
   "metadata": {},
   "outputs": [],
   "source": [
    " # Render the visualization\n",
    "# YOUR CODE HERE!"
   ]
  },
  {
   "cell_type": "code",
   "execution_count": null,
   "id": "eb62688b-ef1e-4011-b900-258d15cd14ba",
   "metadata": {},
   "outputs": [],
   "source": [
    "# List all Entities\n",
    "# YOUR CODE HERE!"
   ]
  },
  {
   "cell_type": "code",
   "execution_count": null,
   "id": "485606b9-73e0-4312-9a3b-9807be79f5bd",
   "metadata": {},
   "outputs": [],
   "source": [
    "#------------- Ethereum NER"
   ]
  },
  {
   "cell_type": "code",
   "execution_count": null,
   "id": "56d97f64-4962-4108-a8f8-500bacd3a367",
   "metadata": {},
   "outputs": [],
   "source": [
    " # Concatenate all of the Ethereum text together\n",
    "# YOUR CODE HERE!"
   ]
  },
  {
   "cell_type": "code",
   "execution_count": null,
   "id": "fa7b9c5d-b646-4608-a4a3-732d6d2ad8e1",
   "metadata": {},
   "outputs": [],
   "source": [
    " # Run the NER processor on all of the text\n",
    "# YOUR CODE HERE!\n",
    "\n",
    "# Add a title to the document\n",
    "# YOUR CODE HERE!"
   ]
  },
  {
   "cell_type": "code",
   "execution_count": null,
   "id": "491500c1-f958-4bbe-bb3b-08386f3de2a5",
   "metadata": {},
   "outputs": [],
   "source": [
    "# Render the visualization\n",
    "# YOUR CODE HERE!"
   ]
  },
  {
   "cell_type": "code",
   "execution_count": null,
   "id": "a5a3f95a-f842-4000-ab11-08d22830621b",
   "metadata": {},
   "outputs": [],
   "source": [
    " # List all Entities\n",
    "# YOUR CODE HERE!"
   ]
  },
  {
   "cell_type": "code",
   "execution_count": null,
   "id": "919cc79c-ba6b-4679-9e45-d3267ebef387",
   "metadata": {},
   "outputs": [],
   "source": []
  }
 ],
 "metadata": {
  "kernelspec": {
   "display_name": "Python 3 (ipykernel)",
   "language": "python",
   "name": "python3"
  },
  "language_info": {
   "codemirror_mode": {
    "name": "ipython",
    "version": 3
   },
   "file_extension": ".py",
   "mimetype": "text/x-python",
   "name": "python",
   "nbconvert_exporter": "python",
   "pygments_lexer": "ipython3",
   "version": "3.9.7"
  }
 },
 "nbformat": 4,
 "nbformat_minor": 5
}
